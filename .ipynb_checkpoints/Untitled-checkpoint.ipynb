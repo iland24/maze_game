{
 "cells": [
  {
   "cell_type": "code",
   "execution_count": 39,
   "id": "8c9e1fe6",
   "metadata": {},
   "outputs": [
    {
     "data": {
      "text/plain": [
       "\"\\nDijkstra's algorithm\\n-finds least cost path\\n-will be using Directed Acyclic Graph (DAG) structure, more specifically, a 2D grid. \\n-will be implementing path finding out of a 2D grid maze \\n    -new istance will generate new maze; \\n    goal is to start from the border of the grid and find another way out\\n\""
      ]
     },
     "execution_count": 39,
     "metadata": {},
     "output_type": "execute_result"
    }
   ],
   "source": [
    "'''\n",
    "Dijkstra's algorithm\n",
    "-finds least cost path\n",
    "-will be using Directed Acyclic Graph (DAG) structure, more specifically, a 2D grid. \n",
    "-will be implementing path finding out of a 2D grid maze \n",
    "    -new istance will generate new maze; \n",
    "    goal is to start from the border of the grid and find another way out\n",
    "'''"
   ]
  },
  {
   "cell_type": "code",
   "execution_count": 114,
   "id": "855e7ab7",
   "metadata": {},
   "outputs": [],
   "source": [
    "import random\n",
    "\n",
    "class Node():\n",
    "    def __init__(self,coordinates, neighbors=None):\n",
    "        self.coordinates = coordinates\n",
    "        \n",
    "        if neighbors == None:\n",
    "            self.neighbors=[]\n",
    "        else:\n",
    "            self.neighbors = neighbors\n",
    "\n",
    "class GridGraphMaze():\n",
    "    \n",
    "    def __init__(self,length=length):\n",
    "        '''\n",
    "        -makes grid and inserts nodes in grid\n",
    "        -initialized with coordinate and neighbor&weight pair\n",
    "          8\n",
    "        4   6\n",
    "          2\n",
    "        These numbers mean directions.\n",
    "        They are paired with random weight with range [0-9].\n",
    "        '''\n",
    "        self.length=length\n",
    "        \n",
    "        # make length x length grid\n",
    "        self.grid = [[0 for _ in range(self.length)] for _ in range(self.length)]\n",
    "        \n",
    "        for i in range(self.length):\n",
    "            for j in range(self.length):\n",
    "                if i==0 and j==0:\n",
    "                    self.grid[i][j]=Node((i,j),[(2,self.rand_weight()),(6,self.rand_weight())])\n",
    "                elif i==0 and j==self.length-1:\n",
    "                    self.grid[i][j]=Node((i,j),[(2,self.rand_weight()),(4,self.rand_weight())])\n",
    "                elif i==self.length-1 and j==0:\n",
    "                    self.grid[i][j]=Node((i,j),[(6,self.rand_weight()),(8,self.rand_weight())])\n",
    "                elif i==self.length-1 and j==self.length-1:\n",
    "                    self.grid[i][j]=Node((i,j),[(4,self.rand_weight()),(8,self.rand_weight())])\n",
    "                elif i==0:\n",
    "                    self.grid[i][j]=Node((i,j),[(2,self.rand_weight()),(4,self.rand_weight()),(6,self.rand_weight())])\n",
    "                elif j==0:\n",
    "                    self.grid[i][j]=Node((i,j),[(2,self.rand_weight()),(6,self.rand_weight()),(8,self.rand_weight())])\n",
    "                elif i==self.length-1:\n",
    "                    self.grid[i][j]=Node((i,j),[(4,self.rand_weight()),(6,self.rand_weight()),(8,self.rand_weight())])\n",
    "                elif j==self.length-1:\n",
    "                    self.grid[i][j]=Node((i,j),[(2,self.rand_weight()),(4,self.rand_weight()),(8,self.rand_weight())])\n",
    "                else:\n",
    "                    self.grid[i][j]=Node((i,j),[(2,self.rand_weight()),(4,self.rand_weight()),(6,self.rand_weight()),(8,self.rand_weight())])\n",
    "        \n",
    "    def rand_weight(self):\n",
    "        return random.choices([0,1,2,3,4,5,6,7,8,9])[0]\n",
    "    \n",
    "    def make_maze(self):\n",
    "        # starting point in one side of the grid\n",
    "        rand_horiz = random.choice(range(self.length))\n",
    "        rand_vertic = random.choice(range(self.length))\n",
    "        \n",
    "        start = random.choice([(0,rand_horiz),(9,rand_horiz),(rand_vertic,0),(rand_vertic,9)])\n",
    "        end = (random.choice(range(self.length)),random.choice(range(self.length)))\n",
    "        \n",
    "        \n",
    "        \n",
    "        "
   ]
  },
  {
   "cell_type": "code",
   "execution_count": 117,
   "id": "85577502",
   "metadata": {},
   "outputs": [],
   "source": [
    "grid_length=2\n",
    "grid_graph = GridGraphMaze(grid_length)"
   ]
  },
  {
   "cell_type": "code",
   "execution_count": 118,
   "id": "91bec216",
   "metadata": {},
   "outputs": [
    {
     "name": "stdout",
     "output_type": "stream",
     "text": [
      "[(2, 9), (6, 0)][(2, 7), (4, 4)]\n",
      "[(6, 9), (8, 8)][(4, 8), (8, 8)]\n"
     ]
    }
   ],
   "source": [
    "for i in grid_graph.grid:\n",
    "    for j in i:\n",
    "        print(j.neighbors,end='')\n",
    "    print()"
   ]
  },
  {
   "cell_type": "code",
   "execution_count": null,
   "id": "57335ed4",
   "metadata": {},
   "outputs": [],
   "source": []
  }
 ],
 "metadata": {
  "kernelspec": {
   "display_name": "Python 3 (ipykernel)",
   "language": "python",
   "name": "python3"
  },
  "language_info": {
   "codemirror_mode": {
    "name": "ipython",
    "version": 3
   },
   "file_extension": ".py",
   "mimetype": "text/x-python",
   "name": "python",
   "nbconvert_exporter": "python",
   "pygments_lexer": "ipython3",
   "version": "3.8.16"
  }
 },
 "nbformat": 4,
 "nbformat_minor": 5
}
